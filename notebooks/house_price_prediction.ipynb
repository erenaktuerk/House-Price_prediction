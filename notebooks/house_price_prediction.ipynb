{
 "cells": [
  {
   "cell_type": "code",
   "execution_count": null,
   "metadata": {
    "vscode": {
     "languageId": "plaintext"
    }
   },
   "outputs": [],
   "source": [
    "# House Price Prediction Notebook\n",
    "\n",
    "# Step 1: Import necessary libraries\n",
    "import pandas as pd\n",
    "import numpy as np\n",
    "import seaborn as sns\n",
    "import matplotlib.pyplot as plt\n",
    "from sklearn.model_selection import train_test_split\n",
    "from src.data_preprocessing import load_data, preprocess_data\n",
    "from src.model import train_model, evaluate_model\n",
    "\n",
    "# Step 2: Load the data\n",
    "train_df = load_data('data/train.csv')\n",
    "\n",
    "# Step 3: Preprocess the data\n",
    "X, y = preprocess_data(train_df)\n",
    "\n",
    "# Step 4: Split the data into training and testing sets\n",
    "X_train, X_test, y_train, y_test = train_test_split(X, y, test_size=0.2, random_state=42)\n",
    "\n",
    "# Step 5: Train the model\n",
    "model = train_model(X_train, y_train)\n",
    "\n",
    "# Step 6: Evaluate the model\n",
    "mse = evaluate_model(model, X_test, y_test)\n",
    "print(f'Mean Squared Error: {mse}')\n",
    "\n",
    "# Step 7: Visualize feature importance\n",
    "from src.utils import plot_feature_importance\n",
    "plot_feature_importance(model, train_df.columns[:-1])  # Exclude 'SalePrice' from features"
   ]
  }
 ],
 "metadata": {
  "language_info": {
   "name": "python"
  }
 },
 "nbformat": 4,
 "nbformat_minor": 2
}
